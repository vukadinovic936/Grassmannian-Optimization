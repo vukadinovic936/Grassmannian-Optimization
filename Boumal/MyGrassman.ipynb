{
 "cells": [
  {
   "cell_type": "markdown",
   "metadata": {},
   "source": [
    "# My method for optimizing on G(2,4)"
   ]
  },
  {
   "cell_type": "code",
   "execution_count": 123,
   "metadata": {},
   "outputs": [],
   "source": [
    "from numpy import random as rnd\n",
    "import numpy as np\n",
    "import numdifftools as nd\n",
    "import pymanopt\n",
    "from pymanopt.manifolds import Grassmann\n",
    "from numpy import linalg as la \n"
   ]
  },
  {
   "cell_type": "markdown",
   "metadata": {},
   "source": [
    "Generate Data"
   ]
  },
  {
   "cell_type": "code",
   "execution_count": 124,
   "metadata": {},
   "outputs": [],
   "source": [
    "num_rows = 4\n",
    "subspace_dimension = 2\n",
    "A = rnd.randn(num_rows, num_rows)\n",
    "A = 0.5* (A + A.T)"
   ]
  },
  {
   "cell_type": "code",
   "execution_count": 136,
   "metadata": {},
   "outputs": [],
   "source": [
    "x = rnd.rand(num_rows, subspace_dimension)"
   ]
  },
  {
   "cell_type": "code",
   "execution_count": 126,
   "metadata": {},
   "outputs": [
    {
     "ename": "TypeError",
     "evalue": "phi() takes 1 positional argument but 3 were given",
     "output_type": "error",
     "traceback": [
      "\u001b[1;31m---------------------------------------------------------------------------\u001b[0m",
      "\u001b[1;31mTypeError\u001b[0m                                 Traceback (most recent call last)",
      "\u001b[1;32mC:\\Users\\VUKADI~1\\AppData\\Local\\Temp/ipykernel_94812/1740386101.py\u001b[0m in \u001b[0;36m<module>\u001b[1;34m\u001b[0m\n\u001b[1;32m----> 1\u001b[1;33m \u001b[0mchart_x\u001b[0m \u001b[1;33m=\u001b[0m \u001b[0mphi\u001b[0m\u001b[1;33m(\u001b[0m\u001b[0mx\u001b[0m\u001b[1;33m,\u001b[0m\u001b[1;36m1\u001b[0m\u001b[1;33m,\u001b[0m\u001b[1;36m2\u001b[0m\u001b[1;33m)\u001b[0m\u001b[1;33m\u001b[0m\u001b[1;33m\u001b[0m\u001b[0m\n\u001b[0m",
      "\u001b[1;31mTypeError\u001b[0m: phi() takes 1 positional argument but 3 were given"
     ]
    }
   ],
   "source": [
    "chart_x = phi(x,1,2)"
   ]
  },
  {
   "cell_type": "code",
   "execution_count": null,
   "metadata": {},
   "outputs": [],
   "source": [
    "def determine_chart(x):\n",
    "\tfor i in range(0,5):\n",
    "\t\tfor j in range(i,5):\n",
    "\t\t\tif np.linalg.det(np.array( [ x[i], x[j] ] )) != 0:\n",
    "\t\t\t\treturn (i,j)\n",
    "\treturn (i,j)"
   ]
  },
  {
   "cell_type": "code",
   "execution_count": null,
   "metadata": {},
   "outputs": [],
   "source": [
    "def phi(x,i,j):\n",
    "\trow_ids = np.array([0,1,2,3])\n",
    "\trow_ids=np.delete(row_ids,[i,j])\n",
    "\tres = x @ np.linalg.inv(np.array([x[i],x[j]]))\n",
    "\treturn np.array( [res[row_ids[0]], res[row_ids[1]]] )"
   ]
  },
  {
   "cell_type": "code",
   "execution_count": null,
   "metadata": {},
   "outputs": [],
   "source": [
    "def phi_inv(x,i,j):\n",
    "\tres = np.zeros((4,2))\n",
    "\trow_ids = np.array([0,1,2,3])\n",
    "\trow_ids=np.delete(row_ids,[i,j])\n",
    "\tres[row_ids[0]] = x[0]\n",
    "\tres[row_ids[1]] = x[1]\n",
    "\tres[i] = np.array([1,0])\n",
    "\tres[j] = np.array([0,1])\n",
    "\treturn res"
   ]
  },
  {
   "cell_type": "code",
   "execution_count": null,
   "metadata": {},
   "outputs": [],
   "source": [
    "cost = lambda X: -np.trace(X.T @ A @ X)"
   ]
  },
  {
   "cell_type": "code",
   "execution_count": null,
   "metadata": {},
   "outputs": [
    {
     "name": "stdout",
     "output_type": "stream",
     "text": [
      "Geodesic distance between true and estimated dominant subspace: 2.7206990391859227\n"
     ]
    }
   ],
   "source": [
    "eigenvalues, eigenvectors = la.eig(A)\n",
    "column_indices = np.argsort(eigenvalues)[-subspace_dimension:]\n",
    "spanning_set = eigenvectors[:, column_indices]\n",
    "print(\n",
    "\t\"Geodesic distance between true and estimated dominant subspace:\",\n",
    "\tmanifold.dist(spanning_set, X),\n",
    ")"
   ]
  },
  {
   "cell_type": "code",
   "execution_count": null,
   "metadata": {},
   "outputs": [],
   "source": []
  }
 ],
 "metadata": {
  "interpreter": {
   "hash": "363cb7f1443b7970b8d885efdd93b9a61c4d451a5f0fb4b315db578a579f1c3b"
  },
  "kernelspec": {
   "display_name": "Python 3.9.7 64-bit ('thesis': conda)",
   "language": "python",
   "name": "python3"
  },
  "language_info": {
   "codemirror_mode": {
    "name": "ipython",
    "version": 3
   },
   "file_extension": ".py",
   "mimetype": "text/x-python",
   "name": "python",
   "nbconvert_exporter": "python",
   "pygments_lexer": "ipython3",
   "version": "3.9.7"
  },
  "orig_nbformat": 4
 },
 "nbformat": 4,
 "nbformat_minor": 2
}
