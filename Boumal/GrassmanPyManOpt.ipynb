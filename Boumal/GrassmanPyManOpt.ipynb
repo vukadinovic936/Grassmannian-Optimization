{
 "cells": [
  {
   "cell_type": "code",
   "execution_count": 20,
   "metadata": {},
   "outputs": [],
   "source": [
    "import autograd.numpy as anp\n",
    "from numpy import random as rnd\n",
    "from numpy import linalg as la \n",
    "\n",
    "import pymanopt\n",
    "from pymanopt.manifolds import Grassmann\n",
    "from pymanopt.solvers import TrustRegions"
   ]
  },
  {
   "cell_type": "markdown",
   "metadata": {},
   "source": [
    "This example generates a random 128 x 128 symmetric matrix, and finds the dominant invariant 3-dimensional subspace for this matrix.\n",
    "That is, it finds the subspace spanned by the three eigenvectors with the largest eigenvalues"
   ]
  },
  {
   "cell_type": "code",
   "execution_count": 21,
   "metadata": {},
   "outputs": [],
   "source": [
    "def create_cost_egrad_ehess(manifold, matrix):\n",
    "\tegrad = ehess = None\n",
    "\t@pymanopt.function.Autograd\n",
    "\tdef cost(X):\n",
    "\t\treturn -anp.trace(X.T @ matrix @ X)\n",
    "\treturn cost, egrad, ehess"
   ]
  },
  {
   "cell_type": "code",
   "execution_count": 22,
   "metadata": {},
   "outputs": [],
   "source": [
    "num_rows = 4\n",
    "subspace_dimension = 2\n",
    "matrix = rnd.randn(num_rows, num_rows)\n",
    "matrix = 0.5* (matrix + matrix.T)"
   ]
  },
  {
   "cell_type": "code",
   "execution_count": 23,
   "metadata": {},
   "outputs": [],
   "source": [
    "manifold = Grassmann(num_rows, subspace_dimension)\n",
    "cost, egrad, ehess = create_cost_egrad_ehess(manifold, matrix)\n",
    "problem = pymanopt.Problem(manifold, cost=cost, egrad=egrad, ehess=ehess)"
   ]
  },
  {
   "cell_type": "code",
   "execution_count": 24,
   "metadata": {},
   "outputs": [
    {
     "name": "stdout",
     "output_type": "stream",
     "text": [
      "Optimizing...\n",
      "                                            f: +1.210103e+00   |grad|: 2.640284e+00\n",
      "acc       k:     1     num_inner:     0     f: -7.451128e-01   |grad|: 3.845104e-01   negative curvature\n",
      "REJ TR-   k:     2     num_inner:     1     f: -7.451128e-01   |grad|: 3.845104e-01   negative curvature\n",
      "acc TR+   k:     3     num_inner:     0     f: -8.367867e-01   |grad|: 1.292002e+00   exceeded trust region\n",
      "acc       k:     4     num_inner:     1     f: -1.312656e+00   |grad|: 1.169599e+00   negative curvature\n",
      "acc       k:     5     num_inner:     2     f: -1.528690e+00   |grad|: 6.141880e-01   exceeded trust region\n",
      "acc       k:     6     num_inner:     2     f: -1.560247e+00   |grad|: 1.843784e-02   reached target residual-kappa (linear)\n",
      "acc       k:     7     num_inner:     3     f: -1.560296e+00   |grad|: 5.201502e-07   reached target residual-theta (superlinear)\n",
      "Terminated - min grad norm reached after 7 iterations, 0.02 seconds.\n",
      "\n"
     ]
    }
   ],
   "source": [
    "solver = TrustRegions()\n",
    "estimated_spanning_set = solver.solve(problem, Delta_bar=8*anp.sqrt(subspace_dimension))"
   ]
  },
  {
   "cell_type": "code",
   "execution_count": 25,
   "metadata": {},
   "outputs": [
    {
     "name": "stdout",
     "output_type": "stream",
     "text": [
      "Geodesic distance between true and estimated dominant subspace: 1.548574096771072e-07\n"
     ]
    }
   ],
   "source": [
    "eigenvalues, eigenvectors = la.eig(matrix)\n",
    "column_indices = anp.argsort(eigenvalues)[-subspace_dimension:]\n",
    "spanning_set = eigenvectors[:, column_indices]\n",
    "print(\n",
    "\t\"Geodesic distance between true and estimated dominant subspace:\",\n",
    "\tmanifold.dist(spanning_set, estimated_spanning_set),\n",
    ")\n"
   ]
  },
  {
   "cell_type": "code",
   "execution_count": 26,
   "metadata": {},
   "outputs": [
    {
     "data": {
      "text/plain": [
       "array([[ 0.60353026, -0.49524432],\n",
       "       [ 0.13041879,  0.78745011],\n",
       "       [-0.57261132, -0.36610697],\n",
       "       [ 0.53931293, -0.02492124]])"
      ]
     },
     "execution_count": 26,
     "metadata": {},
     "output_type": "execute_result"
    }
   ],
   "source": [
    "spanning_set"
   ]
  },
  {
   "cell_type": "code",
   "execution_count": 27,
   "metadata": {},
   "outputs": [
    {
     "data": {
      "text/plain": [
       "array([[-0.47865382, -0.61677087],\n",
       "       [ 0.79070462, -0.10896305],\n",
       "       [-0.38153854,  0.56244676],\n",
       "       [-0.01025021, -0.53979107]])"
      ]
     },
     "execution_count": 27,
     "metadata": {},
     "output_type": "execute_result"
    }
   ],
   "source": [
    "estimated_spanning_set"
   ]
  },
  {
   "cell_type": "code",
   "execution_count": null,
   "metadata": {},
   "outputs": [],
   "source": []
  }
 ],
 "metadata": {
  "interpreter": {
   "hash": "363cb7f1443b7970b8d885efdd93b9a61c4d451a5f0fb4b315db578a579f1c3b"
  },
  "kernelspec": {
   "display_name": "Python 3.9.7 64-bit ('thesis': conda)",
   "language": "python",
   "name": "python3"
  },
  "language_info": {
   "codemirror_mode": {
    "name": "ipython",
    "version": 3
   },
   "file_extension": ".py",
   "mimetype": "text/x-python",
   "name": "python",
   "nbconvert_exporter": "python",
   "pygments_lexer": "ipython3",
   "version": "3.9.7"
  },
  "orig_nbformat": 4
 },
 "nbformat": 4,
 "nbformat_minor": 2
}
