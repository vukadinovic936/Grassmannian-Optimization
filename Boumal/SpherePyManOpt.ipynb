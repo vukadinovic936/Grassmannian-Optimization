{
 "cells": [
  {
   "cell_type": "code",
   "execution_count": 3,
   "metadata": {},
   "outputs": [
    {
     "name": "stdout",
     "output_type": "stream",
     "text": [
      " iter\t\t   cost val\t    grad. norm\n",
      "    1\t-1.0065662911972789e+01\t1.40529900e+01\n",
      "    2\t-1.5139216704407144e+01\t4.09273457e+00\n",
      "    3\t-1.5416012211086805e+01\t6.30108577e-01\n",
      "    4\t-1.5420851768631294e+01\t2.81437958e-01\n",
      "    5\t-1.5422032354457075e+01\t1.10571862e-02\n",
      "    6\t-1.5422034208453935e+01\t2.39364110e-03\n",
      "    7\t-1.5422034283546546e+01\t8.50673705e-04\n",
      "    8\t-1.5422034288290845e+01\t6.36207585e-04\n",
      "    9\t-1.5422034292269208e+01\t3.69636995e-04\n",
      "   10\t-1.5422034292410476e+01\t3.56546423e-04\n",
      "   11\t-1.5422034292933176e+01\t3.03074565e-04\n",
      "   12\t-1.5422034294221131e+01\t7.03300755e-05\n",
      "   13\t-1.5422034294293749e+01\t6.91074522e-06\n",
      "   14\t-1.5422034294294200e+01\t4.16873832e-06\n",
      "   15\t-1.5422034294294310e+01\t3.13550261e-06\n",
      "   16\t-1.5422034294294418e+01\t1.60552474e-06\n",
      "   17\t-1.5422034294294452e+01\t6.71912904e-07\n",
      "Terminated - min grad norm reached after 17 iterations, 0.01 seconds.\n",
      "\n",
      "Dominant eigenvector: [0.44620617 0.45463523 0.77084814]\n",
      "Pymanopt solution: [0.44620617 0.45463523 0.77084814]\n"
     ]
    }
   ],
   "source": [
    "import autograd.numpy as anp\n",
    "import pymanopt\n",
    "import pymanopt.manifolds\n",
    "import pymanopt.solvers\n",
    "\n",
    "anp.random.seed(42)\n",
    "\n",
    "dim = 3\n",
    "manifold = pymanopt.manifolds.Sphere(dim)\n",
    "\n",
    "#matrix = anp.random.normal(size=(dim, dim))\n",
    "#matrix = 0.5 * (matrix + matrix.T)\n",
    "\n",
    "matrix = anp.array([[2,3,6],[3,4,5],[6,5,9]])\n",
    "@pymanopt.function.Autograd\n",
    "def cost(point):\n",
    "    return -point @ matrix @ point\n",
    "\n",
    "problem = pymanopt.Problem(manifold=manifold, cost=cost)\n",
    "\n",
    "solver = pymanopt.solvers.SteepestDescent()\n",
    "solution = solver.solve(problem)\n",
    "\n",
    "eigenvalues, eigenvectors = anp.linalg.eig(matrix)\n",
    "dominant_eigenvector = eigenvectors[:, eigenvalues.argmax()]\n",
    "\n",
    "print(\"Dominant eigenvector:\", dominant_eigenvector)\n",
    "print(\"Pymanopt solution:\", solution)"
   ]
  },
  {
   "cell_type": "code",
   "execution_count": 6,
   "metadata": {},
   "outputs": [
    {
     "data": {
      "text/plain": [
       "(array([15.42203429, -1.45033183,  1.02829753]),\n",
       " array([[ 0.44620617,  0.87416716,  0.19165551],\n",
       "        [ 0.45463523, -0.03695488, -0.88991075],\n",
       "        [ 0.77084814, -0.48421702,  0.41391669]]))"
      ]
     },
     "execution_count": 6,
     "metadata": {},
     "output_type": "execute_result"
    }
   ],
   "source": []
  },
  {
   "cell_type": "markdown",
   "metadata": {},
   "source": [
    "Now make my own"
   ]
  }
 ],
 "metadata": {
  "interpreter": {
   "hash": "363cb7f1443b7970b8d885efdd93b9a61c4d451a5f0fb4b315db578a579f1c3b"
  },
  "kernelspec": {
   "display_name": "Python 3.9.7 64-bit ('thesis': conda)",
   "language": "python",
   "name": "python3"
  },
  "language_info": {
   "codemirror_mode": {
    "name": "ipython",
    "version": 3
   },
   "file_extension": ".py",
   "mimetype": "text/x-python",
   "name": "python",
   "nbconvert_exporter": "python",
   "pygments_lexer": "ipython3",
   "version": "3.9.7"
  },
  "orig_nbformat": 4
 },
 "nbformat": 4,
 "nbformat_minor": 2
}
