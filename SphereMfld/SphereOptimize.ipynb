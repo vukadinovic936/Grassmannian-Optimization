{
 "cells": [
  {
   "cell_type": "code",
   "execution_count": 1253,
   "id": "0416a09a",
   "metadata": {},
   "outputs": [],
   "source": [
    "import numpy as np\n",
    "import numpy.linalg as la\n",
    "from sympy import *"
   ]
  },
  {
   "cell_type": "code",
   "execution_count": 1254,
   "id": "271acbde",
   "metadata": {},
   "outputs": [],
   "source": [
    "a = np.array([[1,2,1],[0,1,0],[0,0,-1]])"
   ]
  },
  {
   "cell_type": "code",
   "execution_count": 1255,
   "id": "443e4ee4",
   "metadata": {},
   "outputs": [
    {
     "data": {
      "text/plain": [
       "array([[1, 2, 1],\n",
       "       [2, 5, 2],\n",
       "       [1, 2, 2]])"
      ]
     },
     "execution_count": 1255,
     "metadata": {},
     "output_type": "execute_result"
    }
   ],
   "source": [
    "a.T @ a"
   ]
  },
  {
   "cell_type": "markdown",
   "id": "d77b88f5",
   "metadata": {},
   "source": [
    "Optimize the function\n",
    "$$ f(x,y,z) = z$$"
   ]
  },
  {
   "cell_type": "code",
   "execution_count": 1166,
   "id": "5f63da44",
   "metadata": {},
   "outputs": [],
   "source": [
    "x = np.random.rand(2)"
   ]
  },
  {
   "cell_type": "code",
   "execution_count": 905,
   "id": "37db609a",
   "metadata": {},
   "outputs": [],
   "source": [
    "G = np.array([[ x[0]**4/4 + x[0]**2*x[1]**2/2 + x[0]**2/2 + x[1]**4/4 +x[1]**2/2 + 1/4,0],\n",
    "\t\t\t [0, x[0]**4/4 + x[0]**2*x[1]**2/2 + x[0]**2/2 + x[1]**4/4 +x[1]**2/2 + 1/4,]])\n",
    "J = np.array( [[4*x[0]/(x[0]**2+x[1]**2+1)**2],[4*x[1]/(x[0]**2+x[1]**2+1)**2]])\n",
    "grad = (G@J).T.reshape(2)\n",
    "x = x + 0.1 * grad"
   ]
  },
  {
   "cell_type": "code",
   "execution_count": 998,
   "id": "0fe47498",
   "metadata": {},
   "outputs": [
    {
     "data": {
      "text/plain": [
       "array([0.04206683, 0.35835239])"
      ]
     },
     "execution_count": 998,
     "metadata": {},
     "output_type": "execute_result"
    }
   ],
   "source": [
    "x"
   ]
  },
  {
   "cell_type": "markdown",
   "id": "989354e3",
   "metadata": {},
   "source": [
    "Optimize the function $$ f(x,y,z) = x+y $$ "
   ]
  },
  {
   "cell_type": "code",
   "execution_count": 1161,
   "id": "7dde8e02",
   "metadata": {},
   "outputs": [],
   "source": [
    "G = np.array([[ x[0]**4/4 + x[0]**2*x[1]**2/2 + x[0]**2/2 + x[1]**4/4 +x[1]**2/2 + 1/4,0],\n",
    "\t\t\t [0, x[0]**4/4 + x[0]**2*x[1]**2/2 + x[0]**2/2 + x[1]**4/4 +x[1]**2/2 + 1/4,]])\n",
    "J = np.array([[-(2*(x[0]**2 + 2*x[0]*x[1] - x[1]**2 - 1))/(x[0]**2 + x[1]**2 + 1)**2], \n",
    "\t\t  [-(2*(- x[0]**2 + 2*x[0]*x[1] + x[0]**2 - 1))/(x[0]**2 + x[1]**2 + 1)**2]])\n",
    "grad = (G@J).T.reshape(2)\n",
    "x = x + 0.1 * grad"
   ]
  },
  {
   "cell_type": "code",
   "execution_count": 1164,
   "id": "2a460728",
   "metadata": {},
   "outputs": [
    {
     "data": {
      "text/plain": [
       "array([[ 0.00075567],\n",
       "       [-0.00854927]])"
      ]
     },
     "execution_count": 1164,
     "metadata": {},
     "output_type": "execute_result"
    }
   ],
   "source": [
    "J"
   ]
  },
  {
   "cell_type": "markdown",
   "id": "429ba792",
   "metadata": {},
   "source": [
    "Optimize the function $$ f(x,y,z) = x^2 -3*y + 2*z $$\n"
   ]
  },
  {
   "cell_type": "code",
   "execution_count": 1247,
   "id": "6f40bb8b",
   "metadata": {},
   "outputs": [],
   "source": [
    "G = np.array([[ x[0]**4/4 + x[0]**2*x[1]**2/2 + x[0]**2/2 + x[1]**4/4 +x[1]**2/2 + 1/4,0],\n",
    "\t\t\t [0, x[0]**4/4 + x[0]**2*x[1]**2/2 + x[0]**2/2 + x[1]**4/4 +x[1]**2/2 + 1/4,]])\n",
    "\n",
    "J = np.array([[ (4*x[0]*(3*x[0]**2*x[1] + 3*x[1]**3 + 4*x[1]**2 + 3*x[1] + 4))/(x[0]**2 + x[1]**2 + 1)**3], \n",
    "\t\t  [-(2*(3*x[0]**4 + 4*x[0]**2*x[1] + 6*x[0]**2 - 3*x[1]**4 - 4*x[1]**3 - 4*x[1] + 3))/(x[0]**2 + x[1]**2 + 1)**3]])\n",
    "grad = (G@J).T.reshape(2)\n",
    "x = x + 0.1 * grad"
   ]
  },
  {
   "cell_type": "code",
   "execution_count": 1248,
   "id": "222b0cd8",
   "metadata": {},
   "outputs": [
    {
     "data": {
      "text/plain": [
       "array([ 1.92078766e-05, -1.86851709e+00])"
      ]
     },
     "execution_count": 1248,
     "metadata": {},
     "output_type": "execute_result"
    }
   ],
   "source": [
    "x"
   ]
  },
  {
   "cell_type": "code",
   "execution_count": null,
   "id": "80a0e4e9",
   "metadata": {},
   "outputs": [],
   "source": []
  }
 ],
 "metadata": {
  "kernelspec": {
   "display_name": "Python 3",
   "language": "python",
   "name": "python3"
  },
  "language_info": {
   "codemirror_mode": {
    "name": "ipython",
    "version": 3
   },
   "file_extension": ".py",
   "mimetype": "text/x-python",
   "name": "python",
   "nbconvert_exporter": "python",
   "pygments_lexer": "ipython3",
   "version": "3.9.7"
  }
 },
 "nbformat": 4,
 "nbformat_minor": 5
}
