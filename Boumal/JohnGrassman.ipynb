{
 "cells": [
  {
   "cell_type": "code",
   "execution_count": 8,
   "metadata": {},
   "outputs": [],
   "source": [
    "from numpy import random as rnd\n",
    "import numpy as np\n",
    "import numdifftools as nd\n",
    "import pymanopt\n",
    "from pymanopt.manifolds import Grassmann\n",
    "\n",
    "from numpy import linalg as la"
   ]
  },
  {
   "cell_type": "markdown",
   "metadata": {},
   "source": [
    "## Optimize \n",
    "$$ min_{L \\in Gr(n,p) \\sum_{i=1}^{k}dist(L,y_i)^2} $$"
   ]
  },
  {
   "cell_type": "code",
   "execution_count": 9,
   "metadata": {},
   "outputs": [],
   "source": [
    "num_rows = 128\n",
    "subspace_dimension = 3\n",
    "A = rnd.randn(num_rows, num_rows)\n",
    "A = 0.5* (A + A.T)"
   ]
  },
  {
   "cell_type": "code",
   "execution_count": 36,
   "metadata": {},
   "outputs": [],
   "source": [
    "def mygrad(X):\n",
    "\treturn (np.eye(num_rows) - X @ np.transpose(X)) @ A @ X"
   ]
  },
  {
   "cell_type": "code",
   "execution_count": 21,
   "metadata": {},
   "outputs": [],
   "source": [
    "def ret(X,V):\n",
    "\treturn (X+V) @ (np.eye(subspace_dimension) + V.T@V )**(-1/2)"
   ]
  },
  {
   "cell_type": "code",
   "execution_count": 22,
   "metadata": {},
   "outputs": [],
   "source": [
    "X = rnd.random((128,3))"
   ]
  },
  {
   "cell_type": "code",
   "execution_count": 26,
   "metadata": {},
   "outputs": [],
   "source": [
    "lr = 0.01\n",
    "for i in range(500):\n",
    "\tif i%100==0:\n",
    "\t\tlr = lr/10\n",
    "\tV = -lr * mygrad(X)\n",
    "\tX= ret(X,V)\n",
    "\n"
   ]
  },
  {
   "cell_type": "code",
   "execution_count": 27,
   "metadata": {},
   "outputs": [],
   "source": [
    "manifold = Grassmann(num_rows, subspace_dimension)"
   ]
  },
  {
   "cell_type": "code",
   "execution_count": 28,
   "metadata": {},
   "outputs": [
    {
     "name": "stdout",
     "output_type": "stream",
     "text": [
      "Geodesic distance between true and estimated dominant subspace: 2.7203710119161544\n"
     ]
    }
   ],
   "source": [
    "eigenvalues, eigenvectors = la.eig(A)\n",
    "column_indices = np.argsort(eigenvalues)[-subspace_dimension:]\n",
    "spanning_set = eigenvectors[:, column_indices]\n",
    "print(\n",
    "\t\"Geodesic distance between true and estimated dominant subspace:\",\n",
    "\tmanifold.dist(spanning_set, X),\n",
    ")"
   ]
  },
  {
   "cell_type": "code",
   "execution_count": null,
   "metadata": {},
   "outputs": [],
   "source": []
  }
 ],
 "metadata": {
  "interpreter": {
   "hash": "363cb7f1443b7970b8d885efdd93b9a61c4d451a5f0fb4b315db578a579f1c3b"
  },
  "kernelspec": {
   "display_name": "Python 3.9.7 ('thesis')",
   "language": "python",
   "name": "python3"
  },
  "language_info": {
   "codemirror_mode": {
    "name": "ipython",
    "version": 3
   },
   "file_extension": ".py",
   "mimetype": "text/x-python",
   "name": "python",
   "nbconvert_exporter": "python",
   "pygments_lexer": "ipython3",
   "version": "3.9.7"
  },
  "orig_nbformat": 4
 },
 "nbformat": 4,
 "nbformat_minor": 2
}
