{
 "cells": [
  {
   "cell_type": "code",
   "execution_count": 21,
   "metadata": {},
   "outputs": [],
   "source": [
    "import autograd.numpy as anp\n",
    "from numpy import random as rnd\n",
    "from numpy import linalg as la \n",
    "\n",
    "import pymanopt\n",
    "from pymanopt.manifolds import Grassmann\n",
    "from pymanopt.solvers import TrustRegions"
   ]
  },
  {
   "cell_type": "markdown",
   "metadata": {},
   "source": [
    "This example generates a random 128 x 128 symmetric matrix, and finds the dominant invariant 3-dimensional subspace for this matrix.\n",
    "That is, it finds the subspace spanned by the three eigenvectors with the largest eigenvalues"
   ]
  },
  {
   "cell_type": "code",
   "execution_count": 17,
   "metadata": {},
   "outputs": [],
   "source": [
    "def create_cost_egrad_ehess(manifold, matrix):\n",
    "\tegrad = ehess = None\n",
    "\t@pymanopt.function.Autograd\n",
    "\tdef cost(X):\n",
    "\t\treturn -anp.trace(X.T @ matrix @ X)\n",
    "\treturn cost, egrad, ehess"
   ]
  },
  {
   "cell_type": "code",
   "execution_count": 18,
   "metadata": {},
   "outputs": [],
   "source": [
    "num_rows = 128\n",
    "subspace_dimension = 3\n",
    "matrix = rnd.randn(num_rows, num_rows)\n",
    "matrix = 0.5* (matrix + matrix.T)"
   ]
  },
  {
   "cell_type": "code",
   "execution_count": 19,
   "metadata": {},
   "outputs": [],
   "source": [
    "manifold = Grassmann(num_rows, subspace_dimension)\n",
    "cost, egrad, ehess = create_cost_egrad_ehess(manifold, matrix)\n",
    "problem = pymanopt.Problem(manifold, cost=cost, egrad=egrad, ehess=ehess)"
   ]
  },
  {
   "cell_type": "code",
   "execution_count": 20,
   "metadata": {},
   "outputs": [
    {
     "name": "stdout",
     "output_type": "stream",
     "text": [
      "Optimizing...\n",
      "                                            f: +3.669090e+00   |grad|: 2.698056e+01\n",
      "acc       k:     1     num_inner:     0     f: -2.224805e+01   |grad|: 2.008826e+01   negative curvature\n",
      "acc       k:     2     num_inner:     1     f: -3.184592e+01   |grad|: 2.040852e+01   negative curvature\n",
      "acc       k:     3     num_inner:     1     f: -3.756073e+01   |grad|: 1.578689e+01   exceeded trust region\n",
      "acc       k:     4     num_inner:     2     f: -4.194086e+01   |grad|: 9.289922e+00   exceeded trust region\n",
      "acc       k:     5     num_inner:     4     f: -4.403647e+01   |grad|: 5.319894e+00   exceeded trust region\n",
      "acc       k:     6     num_inner:     4     f: -4.513197e+01   |grad|: 5.013814e+00   negative curvature\n",
      "acc       k:     7     num_inner:     8     f: -4.604457e+01   |grad|: 7.240103e-01   reached target residual-kappa (linear)\n",
      "acc       k:     8     num_inner:     6     f: -4.609028e+01   |grad|: 6.981344e-02   reached target residual-kappa (linear)\n",
      "acc       k:     9     num_inner:    10     f: -4.609054e+01   |grad|: 4.227021e-03   reached target residual-theta (superlinear)\n",
      "acc       k:    10     num_inner:    19     f: -4.609054e+01   |grad|: 1.067311e-05   reached target residual-theta (superlinear)\n",
      "acc       k:    11     num_inner:    32     f: -4.609054e+01   |grad|: 1.134126e-10   reached target residual-theta (superlinear)\n",
      "Terminated - min grad norm reached after 11 iterations, 0.12 seconds.\n",
      "\n"
     ]
    }
   ],
   "source": [
    "solver = TrustRegions()\n",
    "estimated_spanning_set = solver.solve(problem, Delta_bar=8*anp.sqrt(subspace_dimension))"
   ]
  },
  {
   "cell_type": "code",
   "execution_count": 23,
   "metadata": {},
   "outputs": [
    {
     "name": "stdout",
     "output_type": "stream",
     "text": [
      "Geodesic distance between true and estimated dominant subspace: 4.2146848510894035e-08\n"
     ]
    }
   ],
   "source": [
    "eigenvalues, eigenvectors = la.eig(matrix)\n",
    "column_indices = anp.argsort(eigenvalues)[-subspace_dimension:]\n",
    "spanning_set = eigenvectors[:, column_indices]\n",
    "print(\n",
    "\t\"Geodesic distance between true and estimated dominant subspace:\",\n",
    "\tmanifold.dist(spanning_set, estimated_spanning_set),\n",
    ")\n"
   ]
  },
  {
   "cell_type": "code",
   "execution_count": 27,
   "metadata": {},
   "outputs": [
    {
     "data": {
      "text/plain": [
       "(128, 3)"
      ]
     },
     "execution_count": 27,
     "metadata": {},
     "output_type": "execute_result"
    }
   ],
   "source": [
    "spanning_set.shape"
   ]
  },
  {
   "cell_type": "code",
   "execution_count": null,
   "metadata": {},
   "outputs": [],
   "source": []
  }
 ],
 "metadata": {
  "interpreter": {
   "hash": "363cb7f1443b7970b8d885efdd93b9a61c4d451a5f0fb4b315db578a579f1c3b"
  },
  "kernelspec": {
   "display_name": "Python 3.9.7 64-bit ('thesis': conda)",
   "language": "python",
   "name": "python3"
  },
  "language_info": {
   "codemirror_mode": {
    "name": "ipython",
    "version": 3
   },
   "file_extension": ".py",
   "mimetype": "text/x-python",
   "name": "python",
   "nbconvert_exporter": "python",
   "pygments_lexer": "ipython3",
   "version": "3.9.7"
  },
  "orig_nbformat": 4
 },
 "nbformat": 4,
 "nbformat_minor": 2
}
