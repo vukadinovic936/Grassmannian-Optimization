{
 "cells": [
  {
   "cell_type": "code",
   "execution_count": 2,
   "metadata": {},
   "outputs": [
    {
     "name": "stdout",
     "output_type": "stream",
     "text": [
      " iter\t\t   cost val\t    grad. norm\n",
      "    1\t+1.1041943339110254e+00\t5.65626470e-01\n",
      "1.0\n",
      "    2\t+5.2849633289004561e-01\t8.90742722e-01\n",
      "2.5852493069334366\n",
      "    3\t-8.0741058657312559e-01\t2.23937710e+00\n",
      "1.1931058164714257\n",
      "    4\t-1.2667369971251594e+00\t1.59671326e+00\n",
      "0.5753398834237383\n",
      "    5\t-1.4100298597091836e+00\t1.11228845e+00\n",
      "0.25765414111326657\n",
      "    6\t-1.5219408277812503e+00\t2.45507203e-01\n",
      "0.056979472778692926\n",
      "    7\t-1.5269956262562046e+00\t6.81712914e-02\n",
      "0.018537123081474923\n",
      "    8\t-1.5273114803528711e+00\t3.40941735e-02\n",
      "0.009264166403465945\n",
      "    9\t-1.5273905588875485e+00\t1.70222768e-02\n",
      "0.0046455909266654195\n",
      "   10\t-1.5274100956128573e+00\t8.61140952e-03\n",
      "0.0022687023829008825\n",
      "   11\t-1.5274154319869830e+00\t3.90706914e-03\n",
      "0.001365825361167099\n",
      "   12\t-1.5274156215853552e+00\t3.62943720e-03\n",
      "0.00020895622259726803\n",
      "   13\t-1.5274162595152965e+00\t2.47643447e-03\n",
      "0.000515200339797456\n",
      "   14\t-1.5274168030609059e+00\t3.66398563e-04\n",
      "9.271761419501527e-05\n",
      "   15\t-1.5274168133149573e+00\t1.45209698e-04\n",
      "3.530773614963003e-05\n",
      "   16\t-1.5274168150025647e+00\t4.96155220e-05\n",
      "1.7006849070758383e-05\n",
      "   17\t-1.5274168150483862e+00\t4.42268896e-05\n",
      "4.144227111277997e-06\n",
      "   18\t-1.5274168151842891e+00\t2.13593811e-05\n",
      "6.362677081142013e-06\n",
      "   19\t-1.5274168152084981e+00\t1.37493542e-05\n",
      "3.521486012444984e-06\n",
      "   20\t-1.5274168152227032e+00\t5.68191958e-06\n",
      "1.2500248686530523e-06\n",
      "   21\t-1.5274168152254950e+00\t1.21561610e-06\n",
      "2.87073240516986e-07\n",
      "   22\t-1.5274168152256165e+00\t3.68430723e-07\n",
      "8.241603597484994e-08\n",
      "Terminated - min grad norm reached after 22 iterations, 0.02 seconds.\n",
      "\n",
      "Dominant eigenvector: [-0.78442334 -0.38225031 -0.48843088]\n",
      "Pymanopt solution: [0.78442333 0.38225032 0.48843089]\n"
     ]
    }
   ],
   "source": [
    "import autograd.numpy as anp\n",
    "import pymanopt\n",
    "import pymanopt.manifolds\n",
    "import pymanopt.solvers\n",
    "\n",
    "anp.random.seed(42)\n",
    "\n",
    "dim = 3\n",
    "manifold = pymanopt.manifolds.Sphere(dim)\n",
    "\n",
    "matrix = anp.random.normal(size=(dim, dim))\n",
    "matrix = 0.5 * (matrix + matrix.T)\n",
    "\n",
    "@pymanopt.function.Autograd\n",
    "def cost(point):\n",
    "    return -point @ matrix @ point\n",
    "\n",
    "problem = pymanopt.Problem(manifold=manifold, cost=cost)\n",
    "\n",
    "solver = pymanopt.solvers.SteepestDescent()\n",
    "solution = solver.solve(problem)\n",
    "\n",
    "eigenvalues, eigenvectors = anp.linalg.eig(matrix)\n",
    "dominant_eigenvector = eigenvectors[:, eigenvalues.argmax()]\n",
    "\n",
    "print(\"Dominant eigenvector:\", dominant_eigenvector)\n",
    "print(\"Pymanopt solution:\", solution)"
   ]
  },
  {
   "cell_type": "code",
   "execution_count": 2,
   "metadata": {},
   "outputs": [
    {
     "data": {
      "text/plain": [
       "array([[ 0.49671415,  0.69238278,  1.11345068],\n",
       "       [ 0.69238278, -0.23415337,  0.26664889],\n",
       "       [ 1.11345068,  0.26664889, -0.46947439]])"
      ]
     },
     "execution_count": 2,
     "metadata": {},
     "output_type": "execute_result"
    }
   ],
   "source": [
    "matrix"
   ]
  },
  {
   "cell_type": "markdown",
   "metadata": {},
   "source": [
    "Now make my own"
   ]
  }
 ],
 "metadata": {
  "interpreter": {
   "hash": "363cb7f1443b7970b8d885efdd93b9a61c4d451a5f0fb4b315db578a579f1c3b"
  },
  "kernelspec": {
   "display_name": "Python 3.9.7 64-bit ('thesis': conda)",
   "language": "python",
   "name": "python3"
  },
  "language_info": {
   "codemirror_mode": {
    "name": "ipython",
    "version": 3
   },
   "file_extension": ".py",
   "mimetype": "text/x-python",
   "name": "python",
   "nbconvert_exporter": "python",
   "pygments_lexer": "ipython3",
   "version": "3.9.7"
  },
  "orig_nbformat": 4
 },
 "nbformat": 4,
 "nbformat_minor": 2
}
