{
 "cells": [
  {
   "cell_type": "code",
   "execution_count": 110,
   "id": "0416a09a",
   "metadata": {},
   "outputs": [],
   "source": [
    "import numpy as np\n",
    "import numpy.linalg as la\n",
    "from sympy import *"
   ]
  },
  {
   "cell_type": "code",
   "execution_count": 994,
   "id": "5f63da44",
   "metadata": {},
   "outputs": [],
   "source": [
    "x = np.random.rand(2)"
   ]
  },
  {
   "cell_type": "code",
   "execution_count": 905,
   "id": "37db609a",
   "metadata": {},
   "outputs": [],
   "source": [
    "G = np.array([[ x[0]**4/4 + x[0]**2*x[1]**2/2 + x[0]**2/2 + x[1]**4/4 +x[1]**2/2 + 1/4,0],\n",
    "\t\t\t [0, x[0]**4/4 + x[0]**2*x[1]**2/2 + x[0]**2/2 + x[1]**4/4 +x[1]**2/2 + 1/4,]])\n",
    "J = np.array( [[4*x[0]/(x[0]**2+x[1]**2+1)**2],[4*x[1]/(x[0]**2+x[1]**2+1)**2]])\n",
    "grad = (G@J).T.reshape(2)\n",
    "x = x + 0.1 * grad"
   ]
  },
  {
   "cell_type": "code",
   "execution_count": 998,
   "id": "0fe47498",
   "metadata": {},
   "outputs": [
    {
     "data": {
      "text/plain": [
       "array([0.04206683, 0.35835239])"
      ]
     },
     "execution_count": 998,
     "metadata": {},
     "output_type": "execute_result"
    }
   ],
   "source": [
    "x"
   ]
  },
  {
   "cell_type": "code",
   "execution_count": 1161,
   "id": "7dde8e02",
   "metadata": {},
   "outputs": [],
   "source": [
    "G = np.array([[ x[0]**4/4 + x[0]**2*x[1]**2/2 + x[0]**2/2 + x[1]**4/4 +x[1]**2/2 + 1/4,0],\n",
    "\t\t\t [0, x[0]**4/4 + x[0]**2*x[1]**2/2 + x[0]**2/2 + x[1]**4/4 +x[1]**2/2 + 1/4,]])\n",
    "J = np.array([[-(2*(x[0]**2 + 2*x[0]*x[1] - x[1]**2 - 1))/(x[0]**2 + x[1]**2 + 1)**2], \n",
    "\t\t  [-(2*(- x[0]**2 + 2*x[0]*x[1] + x[0]**2 - 1))/(x[0]**2 + x[1]**2 + 1)**2]])\n",
    "grad = (G@J).T.reshape(2)\n",
    "x = x + 0.1 * grad"
   ]
  },
  {
   "cell_type": "code",
   "execution_count": 1162,
   "id": "2a460728",
   "metadata": {},
   "outputs": [
    {
     "data": {
      "text/plain": [
       "array([0.70670206, 0.71903104])"
      ]
     },
     "execution_count": 1162,
     "metadata": {},
     "output_type": "execute_result"
    }
   ],
   "source": [
    "x"
   ]
  },
  {
   "cell_type": "code",
   "execution_count": null,
   "id": "6f40bb8b",
   "metadata": {},
   "outputs": [],
   "source": []
  }
 ],
 "metadata": {
  "kernelspec": {
   "display_name": "Python 3",
   "language": "python",
   "name": "python3"
  },
  "language_info": {
   "codemirror_mode": {
    "name": "ipython",
    "version": 3
   },
   "file_extension": ".py",
   "mimetype": "text/x-python",
   "name": "python",
   "nbconvert_exporter": "python",
   "pygments_lexer": "ipython3",
   "version": "3.9.7"
  }
 },
 "nbformat": 4,
 "nbformat_minor": 5
}
