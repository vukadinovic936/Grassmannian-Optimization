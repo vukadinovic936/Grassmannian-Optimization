{
 "cells": [
  {
   "cell_type": "code",
   "execution_count": 1,
   "id": "0416a09a",
   "metadata": {},
   "outputs": [],
   "source": [
    "import numpy as np\n",
    "import numpy.linalg as la\n",
    "from sympy import *"
   ]
  },
  {
   "cell_type": "code",
   "execution_count": 5,
   "id": "8b1465fd",
   "metadata": {},
   "outputs": [],
   "source": [
    "X = np.array([[1,0],[0,1],[0,0]])"
   ]
  },
  {
   "cell_type": "code",
   "execution_count": 9,
   "id": "feab59ba",
   "metadata": {},
   "outputs": [],
   "source": [
    "XT = np.array([[0],[0],[1]])"
   ]
  },
  {
   "cell_type": "code",
   "execution_count": 14,
   "id": "5a44c706",
   "metadata": {},
   "outputs": [
    {
     "data": {
      "text/plain": [
       "array([[0],\n",
       "       [0]])"
      ]
     },
     "execution_count": 14,
     "metadata": {},
     "output_type": "execute_result"
    }
   ],
   "source": [
    "X.T @ XT"
   ]
  },
  {
   "cell_type": "code",
   "execution_count": 36,
   "id": "0fe8088f",
   "metadata": {},
   "outputs": [],
   "source": [
    "def com(omega,p):\n",
    "\n",
    "\treturn np.dot(omega,p) - np.dot(p,omega)"
   ]
  },
  {
   "cell_type": "code",
   "execution_count": 1254,
   "id": "271acbde",
   "metadata": {},
   "outputs": [],
   "source": [
    "a = np.array([[1,2,1],[0,1,0],[0,0,-1]])"
   ]
  },
  {
   "cell_type": "code",
   "execution_count": 1255,
   "id": "443e4ee4",
   "metadata": {},
   "outputs": [
    {
     "data": {
      "text/plain": [
       "array([[1, 2, 1],\n",
       "       [2, 5, 2],\n",
       "       [1, 2, 2]])"
      ]
     },
     "execution_count": 1255,
     "metadata": {},
     "output_type": "execute_result"
    }
   ],
   "source": [
    "a.T @ a"
   ]
  },
  {
   "cell_type": "markdown",
   "id": "d77b88f5",
   "metadata": {},
   "source": [
    "Optimize the function\n",
    "$$ f(x,y,z) = z$$"
   ]
  },
  {
   "cell_type": "code",
   "execution_count": 1166,
   "id": "5f63da44",
   "metadata": {},
   "outputs": [],
   "source": [
    "x = np.random.rand(2)"
   ]
  },
  {
   "cell_type": "code",
   "execution_count": 905,
   "id": "37db609a",
   "metadata": {},
   "outputs": [],
   "source": [
    "G = np.array([[ x[0]**4/4 + x[0]**2*x[1]**2/2 + x[0]**2/2 + x[1]**4/4 +x[1]**2/2 + 1/4,0],\n",
    "\t\t\t [0, x[0]**4/4 + x[0]**2*x[1]**2/2 + x[0]**2/2 + x[1]**4/4 +x[1]**2/2 + 1/4,]])\n",
    "J = np.array( [[4*x[0]/(x[0]**2+x[1]**2+1)**2],[4*x[1]/(x[0]**2+x[1]**2+1)**2]])\n",
    "grad = (G@J).T.reshape(2)\n",
    "x = x + 0.1 * grad"
   ]
  },
  {
   "cell_type": "code",
   "execution_count": 998,
   "id": "0fe47498",
   "metadata": {},
   "outputs": [
    {
     "data": {
      "text/plain": [
       "array([0.04206683, 0.35835239])"
      ]
     },
     "execution_count": 998,
     "metadata": {},
     "output_type": "execute_result"
    }
   ],
   "source": [
    "x"
   ]
  },
  {
   "cell_type": "markdown",
   "id": "989354e3",
   "metadata": {},
   "source": [
    "Optimize the function $$ f(x,y,z) = x+y $$ "
   ]
  },
  {
   "cell_type": "code",
   "execution_count": 1161,
   "id": "7dde8e02",
   "metadata": {},
   "outputs": [],
   "source": [
    "G = np.array([[ x[0]**4/4 + x[0]**2*x[1]**2/2 + x[0]**2/2 + x[1]**4/4 +x[1]**2/2 + 1/4,0],\n",
    "\t\t\t [0, x[0]**4/4 + x[0]**2*x[1]**2/2 + x[0]**2/2 + x[1]**4/4 +x[1]**2/2 + 1/4,]])\n",
    "J = np.array([[-(2*(x[0]**2 + 2*x[0]*x[1] - x[1]**2 - 1))/(x[0]**2 + x[1]**2 + 1)**2], \n",
    "\t\t  [-(2*(- x[0]**2 + 2*x[0]*x[1] + x[0]**2 - 1))/(x[0]**2 + x[1]**2 + 1)**2]])\n",
    "grad = (G@J).T.reshape(2)\n",
    "x = x + 0.1 * grad"
   ]
  },
  {
   "cell_type": "code",
   "execution_count": 1164,
   "id": "2a460728",
   "metadata": {},
   "outputs": [
    {
     "data": {
      "text/plain": [
       "array([[ 0.00075567],\n",
       "       [-0.00854927]])"
      ]
     },
     "execution_count": 1164,
     "metadata": {},
     "output_type": "execute_result"
    }
   ],
   "source": [
    "J"
   ]
  },
  {
   "cell_type": "markdown",
   "id": "429ba792",
   "metadata": {},
   "source": [
    "Optimize the function $$ f(x,y,z) = x^2 -3*y + 2*z $$\n"
   ]
  },
  {
   "cell_type": "code",
   "execution_count": 1247,
   "id": "6f40bb8b",
   "metadata": {},
   "outputs": [],
   "source": [
    "G = np.array([[ x[0]**4/4 + x[0]**2*x[1]**2/2 + x[0]**2/2 + x[1]**4/4 +x[1]**2/2 + 1/4,0],\n",
    "\t\t\t [0, x[0]**4/4 + x[0]**2*x[1]**2/2 + x[0]**2/2 + x[1]**4/4 +x[1]**2/2 + 1/4,]])\n",
    "\n",
    "J = np.array([[ (4*x[0]*(3*x[0]**2*x[1] + 3*x[1]**3 + 4*x[1]**2 + 3*x[1] + 4))/(x[0]**2 + x[1]**2 + 1)**3], \n",
    "\t\t  [-(2*(3*x[0]**4 + 4*x[0]**2*x[1] + 6*x[0]**2 - 3*x[1]**4 - 4*x[1]**3 - 4*x[1] + 3))/(x[0]**2 + x[1]**2 + 1)**3]])\n",
    "grad = (G@J).T.reshape(2)\n",
    "x = x + 0.1 * grad"
   ]
  },
  {
   "cell_type": "code",
   "execution_count": 1248,
   "id": "222b0cd8",
   "metadata": {},
   "outputs": [
    {
     "data": {
      "text/plain": [
       "array([ 1.92078766e-05, -1.86851709e+00])"
      ]
     },
     "execution_count": 1248,
     "metadata": {},
     "output_type": "execute_result"
    }
   ],
   "source": [
    "x"
   ]
  },
  {
   "cell_type": "code",
   "execution_count": 1249,
   "id": "ec8e043d",
   "metadata": {},
   "outputs": [],
   "source": [
    "x=0\n",
    "y=-3/np.sqrt(13)\n",
    "z=2/np.sqrt(13)\n"
   ]
  },
  {
   "cell_type": "code",
   "execution_count": 1250,
   "id": "cc892eb5",
   "metadata": {},
   "outputs": [
    {
     "data": {
      "text/plain": [
       "0.0"
      ]
     },
     "execution_count": 1250,
     "metadata": {},
     "output_type": "execute_result"
    }
   ],
   "source": [
    "a = x/(1-z)\n",
    "a"
   ]
  },
  {
   "cell_type": "code",
   "execution_count": 1251,
   "id": "1517e44f",
   "metadata": {},
   "outputs": [],
   "source": [
    "b = y/(1-z)"
   ]
  },
  {
   "cell_type": "code",
   "execution_count": 1252,
   "id": "7f81f259",
   "metadata": {},
   "outputs": [
    {
     "data": {
      "text/plain": [
       "-1.8685170918213299"
      ]
     },
     "execution_count": 1252,
     "metadata": {},
     "output_type": "execute_result"
    }
   ],
   "source": [
    "b"
   ]
  },
  {
   "cell_type": "code",
   "execution_count": 1,
   "id": "2829d400",
   "metadata": {},
   "outputs": [],
   "source": [
    "import numpy as np"
   ]
  },
  {
   "cell_type": "code",
   "execution_count": 2,
   "id": "97e8963e",
   "metadata": {},
   "outputs": [],
   "source": [
    "J = np.array([[0,0,0,0],[0,0,0,0],[0,0,0,0],[0,0,0,0],[1,0,0,0],[0,1,0,0],[0,0,1,0],[0,0,0,1]])"
   ]
  },
  {
   "cell_type": "code",
   "execution_count": 4,
   "id": "10822b33",
   "metadata": {},
   "outputs": [
    {
     "data": {
      "text/plain": [
       "array([[1, 0, 0, 0],\n",
       "       [0, 1, 0, 0],\n",
       "       [0, 0, 1, 0],\n",
       "       [0, 0, 0, 1]])"
      ]
     },
     "execution_count": 4,
     "metadata": {},
     "output_type": "execute_result"
    }
   ],
   "source": [
    "J.T @ J"
   ]
  },
  {
   "cell_type": "markdown",
   "id": "80a0e4e9",
   "metadata": {},
   "source": [
    "Example $ ad \\Omega $ \n",
    "\n",
    "Take a skew-symmetric matrix, say $3x3$, and see how it acts on the $3x3$ symmetric matrices via $P \\mapsto ad \\Omega(P):= [\\Omega,P]:= \\Omega P - P \\Omega$\n",
    "\n",
    "Choose a particular $\\Omega (skew)$, and see what it does to a symmetric matrix.\n",
    "\n",
    "$ Sym_3 = R^6$, so if you wish, you can choose a basis in $Sym_3$, and find the matrix of $ad \\Omega$ (should be a $6x6$ matrix)"
   ]
  },
  {
   "cell_type": "code",
   "execution_count": 2,
   "id": "52e83476",
   "metadata": {},
   "outputs": [],
   "source": [
    "omega = np.array([[0,1,-2],[-1,0,3],[2,-3,0]])\n",
    "p = np.array([[1,1,-1],[1,2,0],[-1,0,5]])"
   ]
  },
  {
   "cell_type": "code",
   "execution_count": 5,
   "id": "dabc4093",
   "metadata": {},
   "outputs": [
    {
     "data": {
      "text/plain": [
       "array([[  6,  -2, -11],\n",
       "       [ -2,  -2,  12],\n",
       "       [-11,  12,  -4]])"
      ]
     },
     "execution_count": 5,
     "metadata": {},
     "output_type": "execute_result"
    }
   ],
   "source": [
    "np.dot(omega,p)-np.dot(p,omega)"
   ]
  },
  {
   "cell_type": "code",
   "execution_count": 23,
   "id": "d1b4212e",
   "metadata": {},
   "outputs": [
    {
     "data": {
      "text/plain": [
       "array([[  3,  -4,  -1],\n",
       "       [  2,  -1,  -4],\n",
       "       [-10,  16,  -2]])"
      ]
     },
     "execution_count": 23,
     "metadata": {},
     "output_type": "execute_result"
    }
   ],
   "source": [
    "np.dot(omega,p).T"
   ]
  },
  {
   "cell_type": "code",
   "execution_count": 24,
   "id": "ba0654c9",
   "metadata": {},
   "outputs": [
    {
     "data": {
      "text/plain": [
       "array([[ -3,   4,   1],\n",
       "       [ -2,   1,   4],\n",
       "       [ 10, -16,   2]])"
      ]
     },
     "execution_count": 24,
     "metadata": {},
     "output_type": "execute_result"
    }
   ],
   "source": [
    "np.dot(p,omega)"
   ]
  },
  {
   "cell_type": "code",
   "execution_count": 20,
   "id": "4d33d909",
   "metadata": {},
   "outputs": [
    {
     "data": {
      "text/plain": [
       "array([[ 0,  0,  0,  0,  0,  0],\n",
       "       [ 0, -1,  2,  0, -3,  0],\n",
       "       [ 0,  2, -4,  0,  6,  0],\n",
       "       [ 0,  0,  0,  0,  0,  0],\n",
       "       [ 0, -3,  6,  0, -9,  0],\n",
       "       [ 0,  0,  0,  0,  0,  0]])"
      ]
     },
     "execution_count": 20,
     "metadata": {},
     "output_type": "execute_result"
    }
   ],
   "source": [
    "np.tensordot(np.array([0,1,-2,0,3,0]),np.array([0,-1,2,0,-3,0]),-1)"
   ]
  },
  {
   "cell_type": "code",
   "execution_count": 38,
   "id": "eee23a1a",
   "metadata": {},
   "outputs": [],
   "source": [
    "O = np.array([[0, -1, 2, -1, 0, 0, 2, 2, 0],\n",
    "\t\t  [2, 0, -3, 0, -2, 2, -3, 0, 0],\n",
    "\t\t  [-4, 3, 0, 3, 0, -1, 0, -1, 4],\n",
    "\t\t  [0, 1, 0, 1, 0, -3, 0, -3, 0],\n",
    "\t\t  [0, -2, 1, -2, 6, 0, 1, 0, 6],\n",
    "\t\t  [0, 0, -2, 0, 0, 3, -2, 3, 0]])"
   ]
  },
  {
   "cell_type": "code",
   "execution_count": 39,
   "id": "f5baa68f",
   "metadata": {},
   "outputs": [
    {
     "data": {
      "text/plain": [
       "array([[ 0, -1,  2, -1,  0,  0,  2,  2,  0],\n",
       "       [ 2,  0, -3,  0, -2,  2, -3,  0,  0],\n",
       "       [-4,  3,  0,  3,  0, -1,  0, -1,  4],\n",
       "       [ 0,  1,  0,  1,  0, -3,  0, -3,  0],\n",
       "       [ 0, -2,  1, -2,  6,  0,  1,  0,  6],\n",
       "       [ 0,  0, -2,  0,  0,  3, -2,  3,  0]])"
      ]
     },
     "execution_count": 39,
     "metadata": {},
     "output_type": "execute_result"
    }
   ],
   "source": [
    "O"
   ]
  },
  {
   "cell_type": "code",
   "execution_count": 40,
   "id": "72a4f3f9",
   "metadata": {},
   "outputs": [
    {
     "data": {
      "text/plain": [
       "array([  6,  -2, -11,  -2,  -2,  12, -11,  12,  -4])"
      ]
     },
     "execution_count": 40,
     "metadata": {},
     "output_type": "execute_result"
    }
   ],
   "source": [
    "np.dot(np.array([1,1,-1,2,0,5]),O)"
   ]
  },
  {
   "cell_type": "code",
   "execution_count": 61,
   "id": "ec923e3f",
   "metadata": {},
   "outputs": [],
   "source": [
    "G = np.array([O[:,0],O[:,1],O[:,2],O[:,3],O[:,5],O[:,8]]).T"
   ]
  },
  {
   "cell_type": "code",
   "execution_count": 62,
   "id": "595c8ae5",
   "metadata": {},
   "outputs": [
    {
     "data": {
      "text/plain": [
       "array([  6,  -2, -11,  -2,  12,  -4])"
      ]
     },
     "execution_count": 62,
     "metadata": {},
     "output_type": "execute_result"
    }
   ],
   "source": [
    "np.dot(np.array([1,1,-1,2,0,5]),G)"
   ]
  },
  {
   "cell_type": "code",
   "execution_count": 63,
   "id": "dae6f8ac",
   "metadata": {},
   "outputs": [
    {
     "data": {
      "text/plain": [
       "array([[ 0, -1,  2, -1,  0,  0],\n",
       "       [ 2,  0, -3,  0,  2,  0],\n",
       "       [-4,  3,  0,  3, -1,  4],\n",
       "       [ 0,  1,  0,  1, -3,  0],\n",
       "       [ 0, -2,  1, -2,  0,  6],\n",
       "       [ 0,  0, -2,  0,  3,  0]])"
      ]
     },
     "execution_count": 63,
     "metadata": {},
     "output_type": "execute_result"
    }
   ],
   "source": [
    "G"
   ]
  },
  {
   "cell_type": "code",
   "execution_count": 73,
   "id": "ad25f9a2",
   "metadata": {},
   "outputs": [],
   "source": [
    "G = np.array([[0,2,-4,0,0,0],\n",
    "\t\t\t  [-1,0,3,1,-2,0],\n",
    "\t\t\t  [2,-3,0,0,1,-2],\n",
    "\t\t\t  [0,-2,0,0,6,0],\n",
    "\t\t\t  [0,2,-1,-3,0,3],\n",
    "\t\t\t  [0,0,4,0,-6,0]])"
   ]
  },
  {
   "cell_type": "code",
   "execution_count": 74,
   "id": "9ea9219f",
   "metadata": {},
   "outputs": [
    {
     "data": {
      "text/plain": [
       "array([  6,  -2, -11,  -2,  12,  -4])"
      ]
     },
     "execution_count": 74,
     "metadata": {},
     "output_type": "execute_result"
    }
   ],
   "source": [
    "np.dot(G,np.array([1,1,-1,2,0,5]))"
   ]
  },
  {
   "cell_type": "markdown",
   "id": "4e5fc63a",
   "metadata": {},
   "source": [
    "Proposition about the tangent space to the Grassmanian:\n",
    "$T_P G$ consists of all commutators $[P, \\Omega]$, for $\\Omega$ - skew, $P \\in G$ (symmetric, idempotent, rank $k$ for $G(k,n)). Choose small $k$ and $n$, e.g., ($k=1, n=3$), ($k=2, n=3$), ($k=2, n=4)$ and for each of these take a particular $P \\in G$ and describe $T_P G$. It should consists of some particular symmetric $3 \\times 3$ ( in the first 2 cases) and $4 \\times 4$ (in the last case) matrices, that form the tangent space to the grassmannian at $P$. For starters, you can take some simple $P$ in each case, e.g., with many zeros"
   ]
  },
  {
   "cell_type": "code",
   "execution_count": 27,
   "id": "854c3d78",
   "metadata": {},
   "outputs": [],
   "source": [
    "T = np.array([[1,1,1],[1,1,1],[0,0,0]])"
   ]
  },
  {
   "cell_type": "code",
   "execution_count": 28,
   "id": "b55eeb8a",
   "metadata": {},
   "outputs": [
    {
     "data": {
      "text/plain": [
       "1"
      ]
     },
     "execution_count": 28,
     "metadata": {},
     "output_type": "execute_result"
    }
   ],
   "source": [
    "np.linalg.matrix_rank(T)"
   ]
  },
  {
   "cell_type": "code",
   "execution_count": 29,
   "id": "17309307",
   "metadata": {},
   "outputs": [
    {
     "data": {
      "text/plain": [
       "array([[2, 2, 2],\n",
       "       [2, 2, 2],\n",
       "       [0, 0, 0]])"
      ]
     },
     "execution_count": 29,
     "metadata": {},
     "output_type": "execute_result"
    }
   ],
   "source": [
    "np.dot(T,T)"
   ]
  },
  {
   "cell_type": "code",
   "execution_count": 34,
   "id": "556044fa",
   "metadata": {},
   "outputs": [
    {
     "data": {
      "text/plain": [
       "2"
      ]
     },
     "execution_count": 34,
     "metadata": {},
     "output_type": "execute_result"
    }
   ],
   "source": [
    "V = np.array([[0,1,-2],\n",
    "\t\t\t  [-1,0,3],\n",
    "\t\t\t  [2,-3,0]])\n",
    "np.linalg.matrix_rank(V)"
   ]
  },
  {
   "cell_type": "code",
   "execution_count": 42,
   "id": "b56e2af1",
   "metadata": {},
   "outputs": [
    {
     "data": {
      "text/plain": [
       "array([[1, 0, 0],\n",
       "       [0, 1, 0],\n",
       "       [0, 0, 0]])"
      ]
     },
     "execution_count": 42,
     "metadata": {},
     "output_type": "execute_result"
    }
   ],
   "source": [
    "V = np.array([[1,0,0],\n",
    "\t\t\t  [0,1,0],\n",
    "\t\t\t  [0,0,0]])\n",
    "np.linalg.matrix_rank(V)\n",
    "np.dot(V,V)\n",
    "V.T"
   ]
  },
  {
   "cell_type": "markdown",
   "id": "5d15d5ca",
   "metadata": {},
   "source": []
  }
 ],
 "metadata": {
  "kernelspec": {
   "display_name": "Python 3",
   "language": "python",
   "name": "python3"
  },
  "language_info": {
   "codemirror_mode": {
    "name": "ipython",
    "version": 3
   },
   "file_extension": ".py",
   "mimetype": "text/x-python",
   "name": "python",
   "nbconvert_exporter": "python",
   "pygments_lexer": "ipython3",
   "version": "3.9.7"
  }
 },
 "nbformat": 4,
 "nbformat_minor": 5
}
