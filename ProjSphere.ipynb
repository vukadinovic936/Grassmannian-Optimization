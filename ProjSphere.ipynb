{
 "cells": [
  {
   "cell_type": "code",
   "execution_count": 1,
   "id": "476cc190",
   "metadata": {},
   "outputs": [],
   "source": [
    "import numpy as np\n",
    "from numpy import linalg\n",
    "from matplotlib import pyplot as plt\n",
    "import sympy as sym\n",
    "from sympy.solvers import solve\n",
    "from sympy import Symbol"
   ]
  },
  {
   "cell_type": "markdown",
   "id": "3197561a",
   "metadata": {},
   "source": [
    "## Rayleigh Quotient function"
   ]
  },
  {
   "cell_type": "code",
   "execution_count": 2,
   "id": "2ea18bb8",
   "metadata": {},
   "outputs": [],
   "source": [
    "def f(A, x):\n",
    "    return np.dot(x.T, np.dot(A, x))"
   ]
  },
  {
   "cell_type": "markdown",
   "id": "60c1b3ae",
   "metadata": {},
   "source": [
    "## for the subspace find the projector to that subspace"
   ]
  },
  {
   "cell_type": "code",
   "execution_count": 3,
   "id": "c2dc6d26",
   "metadata": {},
   "outputs": [],
   "source": [
    "def getProj(A):\n",
    "    \"\"\" \n",
    "    input A is a subspace\n",
    "    output is a projector that projects to this subspace\n",
    "    \"\"\"\n",
    "    return A @ np.linalg.inv(A.T @ A) @ A.T"
   ]
  },
  {
   "cell_type": "markdown",
   "id": "604a1cbe",
   "metadata": {},
   "source": [
    "## from the projector find the subspace that it projects to"
   ]
  },
  {
   "cell_type": "code",
   "execution_count": 4,
   "id": "e3acefde",
   "metadata": {},
   "outputs": [],
   "source": [
    "def getSubspace(P):\n",
    "    \"\"\"\n",
    "    input P is a projector\n",
    "    output is a subspace that this projector projects to\n",
    "    \"\"\"\n",
    "    val,vec = np.linalg.eig(P)\n",
    "    for i in range(3):\n",
    "        if(val[i] > 1 - 1e-6):\n",
    "            return vec[:,i]"
   ]
  },
  {
   "cell_type": "markdown",
   "id": "6597e3eb",
   "metadata": {},
   "source": [
    "## Make a random symmetric matrix"
   ]
  },
  {
   "cell_type": "code",
   "execution_count": 63,
   "id": "32b8a081",
   "metadata": {},
   "outputs": [],
   "source": [
    "A = np.random.random_sample((3,3))\n",
    "A = np.dot(A, A.T)\n",
    "A = np.array([[181, 101, 146],\n",
    "              [101, 74, 103],\n",
    "              [146, 103, 146]])"
   ]
  },
  {
   "cell_type": "markdown",
   "id": "0d99d385",
   "metadata": {},
   "source": [
    "## EXPECTED SOLUTIONS ARE"
   ]
  },
  {
   "cell_type": "markdown",
   "id": "cc014d24",
   "metadata": {},
   "source": [
    "## Pick starting point\n"
   ]
  },
  {
   "cell_type": "code",
   "execution_count": 6,
   "id": "dc4973f9",
   "metadata": {},
   "outputs": [
    {
     "data": {
      "text/plain": [
       "array([0., 0., 1.])"
      ]
     },
     "execution_count": 6,
     "metadata": {},
     "output_type": "execute_result"
    }
   ],
   "source": [
    "x0 = np.array([[0],[0],[1]])\n",
    "P0 = getProj(x0)\n",
    "getSubspace(P0)"
   ]
  },
  {
   "cell_type": "markdown",
   "id": "7589b77f",
   "metadata": {},
   "source": [
    "# STEP 1\n",
    "Pick an ortogonal matrix $\\Theta_0 \\in SO_n$ corresponding to\n",
    "$$ P_0 = \\Theta_0^T \\begin{bmatrix} I_m & 0 \\\\ 0 & 0 \\end{bmatrix} \\Theta_0 \\in Gr_{m,n}$$\n",
    "and set $j=0$"
   ]
  },
  {
   "cell_type": "code",
   "execution_count": 64,
   "id": "3ded7256",
   "metadata": {},
   "outputs": [],
   "source": [
    "n=3\n",
    "m=1"
   ]
  },
  {
   "cell_type": "code",
   "execution_count": 65,
   "id": "2a545edd",
   "metadata": {},
   "outputs": [],
   "source": [
    "H = np.random.rand(n, n)\n",
    "u, s, vh = np.linalg.svd(H, full_matrices=False)\n",
    "Theta = u @ vh"
   ]
  },
  {
   "cell_type": "code",
   "execution_count": 66,
   "id": "e0be1576",
   "metadata": {},
   "outputs": [
    {
     "data": {
      "text/plain": [
       "-1.0000000000000002"
      ]
     },
     "execution_count": 66,
     "metadata": {},
     "output_type": "execute_result"
    }
   ],
   "source": [
    "np.linalg.det(Theta)"
   ]
  },
  {
   "cell_type": "code",
   "execution_count": 67,
   "id": "ce9a4764",
   "metadata": {},
   "outputs": [],
   "source": [
    "P = Theta.T @ np.pad(np.eye(m),((0,n-m),(0,n-m))) @ Theta"
   ]
  },
  {
   "cell_type": "code",
   "execution_count": 653,
   "id": "6db5453a",
   "metadata": {},
   "outputs": [
    {
     "data": {
      "text/plain": [
       "1"
      ]
     },
     "execution_count": 653,
     "metadata": {},
     "output_type": "execute_result"
    }
   ],
   "source": [
    "np.linalg.matrix_rank(P)"
   ]
  },
  {
   "cell_type": "markdown",
   "id": "23dcef3b",
   "metadata": {},
   "source": [
    "## STEP 2\n",
    "Compute\n",
    "$$ \\begin{bmatrix}\n",
    "    A_{1,1} & A_{1,2} \\\\ \n",
    "    A_{1,2}^T & A_{2,2} \n",
    "    \\end{bmatrix} = \n",
    "    \\Theta_j A \\Theta_{j}^T\n",
    "$$"
   ]
  },
  {
   "cell_type": "code",
   "execution_count": 12,
   "id": "4da07251",
   "metadata": {},
   "outputs": [],
   "source": [
    "Res = Theta @ A @ Theta.T"
   ]
  },
  {
   "cell_type": "code",
   "execution_count": 13,
   "id": "4579f083",
   "metadata": {},
   "outputs": [
    {
     "data": {
      "text/plain": [
       "array([[66.37547439,  2.8204349 , 62.38036276],\n",
       "       [ 2.8204349 ,  6.83755333,  9.4701554 ],\n",
       "       [62.38036276,  9.4701554 , 68.78697228]])"
      ]
     },
     "execution_count": 13,
     "metadata": {},
     "output_type": "execute_result"
    }
   ],
   "source": [
    "Res"
   ]
  },
  {
   "cell_type": "markdown",
   "id": "b1bfbcb9",
   "metadata": {},
   "source": [
    "$A_{1,1}$ has the shape $m \\times m$\n",
    "\n",
    "$A_{2,2}$ has the shape $(n-m) \\times (n-m)$\n",
    "\n",
    "$A_{1,2}$ has the shape $m \\times (n-m)$\n",
    "\n",
    "$Z_j$ has the shape $m \\times (n-m)$"
   ]
  },
  {
   "cell_type": "code",
   "execution_count": 14,
   "id": "6dc053b1",
   "metadata": {},
   "outputs": [
    {
     "name": "stdout",
     "output_type": "stream",
     "text": [
      "[[66.37547439]]\n",
      "(1, 1)\n"
     ]
    }
   ],
   "source": [
    "A11 = Res[0:m,0:m]\n",
    "print(A11)\n",
    "print(A11.shape)"
   ]
  },
  {
   "cell_type": "code",
   "execution_count": 15,
   "id": "fac1f527",
   "metadata": {},
   "outputs": [
    {
     "name": "stdout",
     "output_type": "stream",
     "text": [
      "[[ 2.8204349  62.38036276]]\n",
      "(1, 2)\n"
     ]
    }
   ],
   "source": [
    "A12 = Res[:m,m:]\n",
    "print(A12)\n",
    "print(A12.shape)"
   ]
  },
  {
   "cell_type": "code",
   "execution_count": 16,
   "id": "856b62e8",
   "metadata": {},
   "outputs": [
    {
     "name": "stdout",
     "output_type": "stream",
     "text": [
      "[[ 6.83755333  9.4701554 ]\n",
      " [ 9.4701554  68.78697228]]\n",
      "(2, 2)\n"
     ]
    }
   ],
   "source": [
    "A22 = Res[m:,m:]\n",
    "print(A22)\n",
    "print(A22.shape)"
   ]
  },
  {
   "cell_type": "markdown",
   "id": "16014043",
   "metadata": {},
   "source": [
    "## STEP 3 \n",
    "Solve the Sylvester equation\n",
    "$$ A_{1,1} Z_j - Z_j A_{2,2} = A_{1,2} $$"
   ]
  },
  {
   "cell_type": "code",
   "execution_count": 17,
   "id": "3a564a39",
   "metadata": {},
   "outputs": [],
   "source": [
    "z1 = Symbol('z1')\n",
    "z2 = Symbol('z2')\n",
    "Z = np.array([[z1],[z2]]).T"
   ]
  },
  {
   "cell_type": "code",
   "execution_count": 18,
   "id": "d04ae46b",
   "metadata": {},
   "outputs": [
    {
     "data": {
      "text/plain": [
       "(1, 2)"
      ]
     },
     "execution_count": 18,
     "metadata": {},
     "output_type": "execute_result"
    }
   ],
   "source": [
    "Z.shape"
   ]
  },
  {
   "cell_type": "markdown",
   "id": "df1ce9e1",
   "metadata": {},
   "source": [
    "## first to solve\n",
    "A11[0] * z1 - z1 * A22[0][0] + z2 * A22[0][1] == A12[0]"
   ]
  },
  {
   "cell_type": "markdown",
   "id": "4ce2711d",
   "metadata": {},
   "source": [
    "## second to solve\n",
    "A11[1] * z2 - z1 * A22[1][0] + z2 * A22[1][1] = A12[1]"
   ]
  },
  {
   "cell_type": "code",
   "execution_count": 702,
   "id": "3a8e8a15",
   "metadata": {},
   "outputs": [
    {
     "name": "stdout",
     "output_type": "stream",
     "text": [
      "{z1: 1.64331127829724, z2: -0.00614288033593824}\n"
     ]
    }
   ],
   "source": [
    "eq1 = sym.Eq(A11[0][0] * z1 - z1*A22[0][0] - z2* A22[1][0], A12[0][0])\n",
    "eq2 = sym.Eq(A11[0][0]*z2 - z1 * A22[0][1] - z2 * A22[1][1],A12[0][1])\n",
    "result = sym.solve([eq1,eq2],(z1,z2),prec=50)\n",
    "print(result)"
   ]
  },
  {
   "cell_type": "code",
   "execution_count": 20,
   "id": "c37b4350",
   "metadata": {},
   "outputs": [
    {
     "data": {
      "text/plain": [
       "(1, 2)"
      ]
     },
     "execution_count": 20,
     "metadata": {},
     "output_type": "execute_result"
    }
   ],
   "source": [
    "A12.shape"
   ]
  },
  {
   "cell_type": "code",
   "execution_count": 21,
   "id": "eb74e415",
   "metadata": {},
   "outputs": [],
   "source": [
    "Z = np.array([[result[z1]],[result[z2]]]).T"
   ]
  },
  {
   "cell_type": "code",
   "execution_count": null,
   "id": "62cc8382",
   "metadata": {},
   "outputs": [],
   "source": []
  },
  {
   "cell_type": "markdown",
   "id": "d56ea0d1",
   "metadata": {},
   "source": [
    "## Step 4 \n",
    "Compute \n",
    "$$ \\Theta^T_{j+1} = \\Theta^T_{j} \n",
    "   \\begin{bmatrix} I_m & Z_j \\\\  \n",
    "                   -Z_j^T & I_{n-m}\n",
    "   \\end{bmatrix}_{Q}\n",
    "   \\quad\n",
    "   \\text{and}\n",
    "   \\quad\n",
    "   P_{j+1} = \\Theta_{j+1}^T \n",
    "   \\begin{bmatrix} I_m & 0 \\\\\n",
    "                   0 & 0 \n",
    "    \\end{bmatrix} \\Theta_{j+1}\n",
    "$$"
   ]
  },
  {
   "cell_type": "code",
   "execution_count": 22,
   "id": "7ff1a997",
   "metadata": {},
   "outputs": [],
   "source": [
    "TEMP = np.eye(n)\n",
    "TEMP[0:m,m:] = Z\n",
    "TEMP[m:,:m] = -Z.T\n",
    "TEMP_Q, R = np.linalg.qr(TEMP)"
   ]
  },
  {
   "cell_type": "code",
   "execution_count": 23,
   "id": "b607c01d",
   "metadata": {},
   "outputs": [],
   "source": [
    "Theta = (Theta.T @ TEMP_Q).T"
   ]
  },
  {
   "cell_type": "code",
   "execution_count": 24,
   "id": "7b835590",
   "metadata": {},
   "outputs": [],
   "source": [
    "P = Theta.T @ np.pad(np.eye(m),((0,n-m),(0,n-m))) @ Theta"
   ]
  },
  {
   "cell_type": "code",
   "execution_count": 25,
   "id": "9dd39431",
   "metadata": {},
   "outputs": [
    {
     "data": {
      "text/plain": [
       "array([-0.19419466, -0.9753497 ,  0.10479217])"
      ]
     },
     "execution_count": 25,
     "metadata": {},
     "output_type": "execute_result"
    }
   ],
   "source": [
    "getSubspace(P)"
   ]
  },
  {
   "cell_type": "code",
   "execution_count": 26,
   "id": "fac9bbe7",
   "metadata": {},
   "outputs": [
    {
     "data": {
      "text/plain": [
       "array([[-0.19419466, -0.9753497 ,  0.10479217],\n",
       "       [ 0.04270499,  0.0983189 ,  0.99423824],\n",
       "       [-0.98003302,  0.19755091,  0.02255929]])"
      ]
     },
     "execution_count": 26,
     "metadata": {},
     "output_type": "execute_result"
    }
   ],
   "source": [
    "Theta"
   ]
  },
  {
   "cell_type": "markdown",
   "id": "a7c9be38",
   "metadata": {},
   "source": [
    "## JOIN ALL"
   ]
  },
  {
   "cell_type": "code",
   "execution_count": 108,
   "id": "23498164",
   "metadata": {},
   "outputs": [
    {
     "data": {
      "text/plain": [
       "array([[-0.66889888, -0.48566074, -0.5627681 ],\n",
       "       [ 0.02075902,  0.74456721, -0.66722465],\n",
       "       [-0.74306349,  0.45798834,  0.48795833]])"
      ]
     },
     "execution_count": 108,
     "metadata": {},
     "output_type": "execute_result"
    }
   ],
   "source": [
    "# Step 2\n",
    "Res = Theta @ A @ Theta.T\n",
    "A11 = Res[0:m,0:m]\n",
    "A12 = Res[:m,m:]\n",
    "A22 = Res[m:,m:]\n",
    "# STEP 3\n",
    "z1 = Symbol('z1')\n",
    "z2 = Symbol('z2')\n",
    "Z = np.array([[z1],[z2]]).T\n",
    "eq1 = sym.Eq(A11[0][0] * z1 - z1*A22[0][0] - z2* A22[1][0], A12[0][0])\n",
    "eq2 = sym.Eq(A11[0][0]*z2 - z1 * A22[0][1] - z2 * A22[1][1],A12[0][1])\n",
    "result = sym.solve([eq1,eq2],(z1,z2))\n",
    "Z = np.array([[result[z1]],[result[z2]]]).T\n",
    "# STEP 4\n",
    "TEMP = np.eye(n)\n",
    "TEMP[0:m,m:] = Z\n",
    "TEMP[m:,:m] = -Z.T\n",
    "TEMP_Q, R = np.linalg.qr(TEMP)\n",
    "Theta = (Theta.T @ TEMP_Q).T\n",
    "P = Theta.T @ np.pad(np.eye(m),((0,n-m),(0,n-m))) @ Theta\n",
    "Theta"
   ]
  },
  {
   "cell_type": "markdown",
   "id": "57d4be58",
   "metadata": {},
   "source": [
    "## STEP 5\n",
    "Set j = j+1 and goto STEP 2"
   ]
  },
  {
   "cell_type": "code",
   "execution_count": 71,
   "id": "79e5dc7f",
   "metadata": {},
   "outputs": [
    {
     "data": {
      "text/plain": [
       "array([ 0.74148822, -0.44835462, -0.49917267])"
      ]
     },
     "execution_count": 71,
     "metadata": {},
     "output_type": "execute_result"
    }
   ],
   "source": [
    "np.linalg.eig(A)[1][:,1]"
   ]
  },
  {
   "cell_type": "code",
   "execution_count": 72,
   "id": "db60a98d",
   "metadata": {},
   "outputs": [
    {
     "data": {
      "text/plain": [
       "array([-0.05957434, -0.78501609,  0.61660411])"
      ]
     },
     "execution_count": 72,
     "metadata": {},
     "output_type": "execute_result"
    }
   ],
   "source": [
    "np.linalg.eig(A)[1][:,2]"
   ]
  },
  {
   "cell_type": "code",
   "execution_count": 73,
   "id": "287928c2",
   "metadata": {},
   "outputs": [
    {
     "data": {
      "text/plain": [
       "array([0.66831589, 0.4274668 , 0.60879061])"
      ]
     },
     "execution_count": 73,
     "metadata": {},
     "output_type": "execute_result"
    }
   ],
   "source": [
    "np.linalg.eig(A)[1][:,0]"
   ]
  },
  {
   "cell_type": "code",
   "execution_count": null,
   "id": "4ddf7e28",
   "metadata": {},
   "outputs": [],
   "source": []
  }
 ],
 "metadata": {
  "kernelspec": {
   "display_name": "Python 3",
   "language": "python",
   "name": "python3"
  },
  "language_info": {
   "codemirror_mode": {
    "name": "ipython",
    "version": 3
   },
   "file_extension": ".py",
   "mimetype": "text/x-python",
   "name": "python",
   "nbconvert_exporter": "python",
   "pygments_lexer": "ipython3",
   "version": "3.8.10"
  }
 },
 "nbformat": 4,
 "nbformat_minor": 5
}
